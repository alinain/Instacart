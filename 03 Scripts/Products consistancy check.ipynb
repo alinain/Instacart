{
 "cells": [
  {
   "cell_type": "code",
   "execution_count": 66,
   "id": "e36bb440",
   "metadata": {},
   "outputs": [],
   "source": [
    "import pandas as pd\n",
    "import numpy as np\n",
    "import os"
   ]
  },
  {
   "cell_type": "code",
   "execution_count": 67,
   "id": "f599302e",
   "metadata": {},
   "outputs": [],
   "source": [
    "path = r'C:\\Users\\esgib\\Desktop\\Alina\\Course 4\\Instacart Basket Analysis'"
   ]
  },
  {
   "cell_type": "code",
   "execution_count": 68,
   "id": "51dfbd91",
   "metadata": {},
   "outputs": [],
   "source": [
    "df = pd.read_csv(os.path.join(path, '02 Data', 'Original data', 'products.csv'), index_col=False)"
   ]
  },
  {
   "cell_type": "code",
   "execution_count": 69,
   "id": "2cf7513f",
   "metadata": {},
   "outputs": [
    {
     "data": {
      "text/plain": [
       "(49693, 5)"
      ]
     },
     "execution_count": 69,
     "metadata": {},
     "output_type": "execute_result"
    }
   ],
   "source": [
    "df.shape"
   ]
  },
  {
   "cell_type": "code",
   "execution_count": 70,
   "id": "e64875e6",
   "metadata": {},
   "outputs": [
    {
     "data": {
      "text/html": [
       "<div>\n",
       "<style scoped>\n",
       "    .dataframe tbody tr th:only-of-type {\n",
       "        vertical-align: middle;\n",
       "    }\n",
       "\n",
       "    .dataframe tbody tr th {\n",
       "        vertical-align: top;\n",
       "    }\n",
       "\n",
       "    .dataframe thead th {\n",
       "        text-align: right;\n",
       "    }\n",
       "</style>\n",
       "<table border=\"1\" class=\"dataframe\">\n",
       "  <thead>\n",
       "    <tr style=\"text-align: right;\">\n",
       "      <th></th>\n",
       "      <th>product_id</th>\n",
       "      <th>product_name</th>\n",
       "      <th>aisle_id</th>\n",
       "      <th>department_id</th>\n",
       "      <th>prices</th>\n",
       "    </tr>\n",
       "  </thead>\n",
       "  <tbody>\n",
       "    <tr>\n",
       "      <th>0</th>\n",
       "      <td>1</td>\n",
       "      <td>Chocolate Sandwich Cookies</td>\n",
       "      <td>61</td>\n",
       "      <td>19</td>\n",
       "      <td>5.8</td>\n",
       "    </tr>\n",
       "    <tr>\n",
       "      <th>1</th>\n",
       "      <td>2</td>\n",
       "      <td>All-Seasons Salt</td>\n",
       "      <td>104</td>\n",
       "      <td>13</td>\n",
       "      <td>9.3</td>\n",
       "    </tr>\n",
       "    <tr>\n",
       "      <th>2</th>\n",
       "      <td>3</td>\n",
       "      <td>Robust Golden Unsweetened Oolong Tea</td>\n",
       "      <td>94</td>\n",
       "      <td>7</td>\n",
       "      <td>4.5</td>\n",
       "    </tr>\n",
       "    <tr>\n",
       "      <th>3</th>\n",
       "      <td>4</td>\n",
       "      <td>Smart Ones Classic Favorites Mini Rigatoni Wit...</td>\n",
       "      <td>38</td>\n",
       "      <td>1</td>\n",
       "      <td>10.5</td>\n",
       "    </tr>\n",
       "    <tr>\n",
       "      <th>4</th>\n",
       "      <td>5</td>\n",
       "      <td>Green Chile Anytime Sauce</td>\n",
       "      <td>5</td>\n",
       "      <td>13</td>\n",
       "      <td>4.3</td>\n",
       "    </tr>\n",
       "  </tbody>\n",
       "</table>\n",
       "</div>"
      ],
      "text/plain": [
       "   product_id                                       product_name  aisle_id  \\\n",
       "0           1                         Chocolate Sandwich Cookies        61   \n",
       "1           2                                   All-Seasons Salt       104   \n",
       "2           3               Robust Golden Unsweetened Oolong Tea        94   \n",
       "3           4  Smart Ones Classic Favorites Mini Rigatoni Wit...        38   \n",
       "4           5                          Green Chile Anytime Sauce         5   \n",
       "\n",
       "   department_id  prices  \n",
       "0             19     5.8  \n",
       "1             13     9.3  \n",
       "2              7     4.5  \n",
       "3              1    10.5  \n",
       "4             13     4.3  "
      ]
     },
     "execution_count": 70,
     "metadata": {},
     "output_type": "execute_result"
    }
   ],
   "source": [
    "df.head()"
   ]
  },
  {
   "cell_type": "code",
   "execution_count": 71,
   "id": "a3ba6554",
   "metadata": {},
   "outputs": [
    {
     "data": {
      "text/plain": [
       "product_id         int64\n",
       "product_name      object\n",
       "aisle_id           int64\n",
       "department_id      int64\n",
       "prices           float64\n",
       "dtype: object"
      ]
     },
     "execution_count": 71,
     "metadata": {},
     "output_type": "execute_result"
    }
   ],
   "source": [
    "df.dtypes"
   ]
  },
  {
   "cell_type": "code",
   "execution_count": 72,
   "id": "273dacef",
   "metadata": {},
   "outputs": [],
   "source": [
    "#changing data types to avoid memory errors\n",
    "df['product_id'] = df['product_id'].astype('int32')\n",
    "df['department_id'] = df['department_id'].astype('int32')"
   ]
  },
  {
   "cell_type": "code",
   "execution_count": 73,
   "id": "191bbd4c",
   "metadata": {},
   "outputs": [
    {
     "data": {
      "text/plain": [
       "product_id         int32\n",
       "product_name      object\n",
       "aisle_id           int64\n",
       "department_id      int32\n",
       "prices           float64\n",
       "dtype: object"
      ]
     },
     "execution_count": 73,
     "metadata": {},
     "output_type": "execute_result"
    }
   ],
   "source": [
    "df.dtypes"
   ]
  },
  {
   "cell_type": "code",
   "execution_count": 74,
   "id": "e6534ca9",
   "metadata": {},
   "outputs": [],
   "source": [
    "# dropping 'aisle_id' column\n",
    "df = df.drop(columns = 'aisle_id')"
   ]
  },
  {
   "cell_type": "code",
   "execution_count": 75,
   "id": "563d0b4a",
   "metadata": {},
   "outputs": [
    {
     "data": {
      "text/html": [
       "<div>\n",
       "<style scoped>\n",
       "    .dataframe tbody tr th:only-of-type {\n",
       "        vertical-align: middle;\n",
       "    }\n",
       "\n",
       "    .dataframe tbody tr th {\n",
       "        vertical-align: top;\n",
       "    }\n",
       "\n",
       "    .dataframe thead th {\n",
       "        text-align: right;\n",
       "    }\n",
       "</style>\n",
       "<table border=\"1\" class=\"dataframe\">\n",
       "  <thead>\n",
       "    <tr style=\"text-align: right;\">\n",
       "      <th></th>\n",
       "      <th>product_id</th>\n",
       "      <th>product_name</th>\n",
       "      <th>department_id</th>\n",
       "      <th>prices</th>\n",
       "    </tr>\n",
       "  </thead>\n",
       "  <tbody>\n",
       "    <tr>\n",
       "      <th>0</th>\n",
       "      <td>1</td>\n",
       "      <td>Chocolate Sandwich Cookies</td>\n",
       "      <td>19</td>\n",
       "      <td>5.8</td>\n",
       "    </tr>\n",
       "    <tr>\n",
       "      <th>1</th>\n",
       "      <td>2</td>\n",
       "      <td>All-Seasons Salt</td>\n",
       "      <td>13</td>\n",
       "      <td>9.3</td>\n",
       "    </tr>\n",
       "    <tr>\n",
       "      <th>2</th>\n",
       "      <td>3</td>\n",
       "      <td>Robust Golden Unsweetened Oolong Tea</td>\n",
       "      <td>7</td>\n",
       "      <td>4.5</td>\n",
       "    </tr>\n",
       "    <tr>\n",
       "      <th>3</th>\n",
       "      <td>4</td>\n",
       "      <td>Smart Ones Classic Favorites Mini Rigatoni Wit...</td>\n",
       "      <td>1</td>\n",
       "      <td>10.5</td>\n",
       "    </tr>\n",
       "    <tr>\n",
       "      <th>4</th>\n",
       "      <td>5</td>\n",
       "      <td>Green Chile Anytime Sauce</td>\n",
       "      <td>13</td>\n",
       "      <td>4.3</td>\n",
       "    </tr>\n",
       "  </tbody>\n",
       "</table>\n",
       "</div>"
      ],
      "text/plain": [
       "   product_id                                       product_name  \\\n",
       "0           1                         Chocolate Sandwich Cookies   \n",
       "1           2                                   All-Seasons Salt   \n",
       "2           3               Robust Golden Unsweetened Oolong Tea   \n",
       "3           4  Smart Ones Classic Favorites Mini Rigatoni Wit...   \n",
       "4           5                          Green Chile Anytime Sauce   \n",
       "\n",
       "   department_id  prices  \n",
       "0             19     5.8  \n",
       "1             13     9.3  \n",
       "2              7     4.5  \n",
       "3              1    10.5  \n",
       "4             13     4.3  "
      ]
     },
     "execution_count": 75,
     "metadata": {},
     "output_type": "execute_result"
    }
   ],
   "source": [
    "df.head()"
   ]
  },
  {
   "cell_type": "code",
   "execution_count": 76,
   "id": "1456bd3f",
   "metadata": {},
   "outputs": [
    {
     "name": "stdout",
     "output_type": "stream",
     "text": [
      "product_name\n"
     ]
    }
   ],
   "source": [
    "##checking for columns which have mixed datatype\n",
    "for col in df.columns.tolist(): \n",
    "    weird = (df[[col]].applymap(type) != df[[col]].iloc[0].apply(type)).any(axis = 1) \n",
    "    if len (df[weird]) > 0: print (col)"
   ]
  },
  {
   "cell_type": "code",
   "execution_count": 77,
   "id": "8ea18c98",
   "metadata": {},
   "outputs": [
    {
     "data": {
      "text/plain": [
       "Black House Coffee Roasty Stout Beer                    2\n",
       "Adore Forever Body Wash                                 2\n",
       "Gluten Free Organic Peanut Butter & Chocolate Cereal    2\n",
       "Fiber 4g Gummy Dietary Supplement                       2\n",
       "Ranger IPA                                              2\n",
       "                                                       ..\n",
       "Kosher Dill Mini Pickles                                1\n",
       "Chili Rice Scooter                                      1\n",
       "All Natural Chicken Apple Sausage                       1\n",
       "Quartered Artichoke Hearts                              1\n",
       "Fresh Foaming Cleanser                                  1\n",
       "Name: product_name, Length: 49672, dtype: int64"
      ]
     },
     "execution_count": 77,
     "metadata": {},
     "output_type": "execute_result"
    }
   ],
   "source": [
    "df['product_name'].value_counts()"
   ]
  },
  {
   "cell_type": "code",
   "execution_count": 78,
   "id": "a25f164c",
   "metadata": {},
   "outputs": [],
   "source": [
    "#changing data type of values in column 'product_name'\n",
    "df['product_name'] = df['product_name'].astype('str')"
   ]
  },
  {
   "cell_type": "code",
   "execution_count": 79,
   "id": "8b46dc64",
   "metadata": {},
   "outputs": [],
   "source": [
    "#checking again for columns which have mixed datatype\n",
    "for col in df.columns.tolist(): \n",
    "    weird = (df[[col]].applymap(type) != df[[col]].iloc[0].apply(type)).any(axis = 1) \n",
    "    if len (df[weird]) > 0: print (col)"
   ]
  },
  {
   "cell_type": "code",
   "execution_count": 80,
   "id": "4ae13640",
   "metadata": {},
   "outputs": [
    {
     "name": "stdout",
     "output_type": "stream",
     "text": [
      "0\n",
      "0\n"
     ]
    }
   ],
   "source": [
    "#checking 'product_id column' for missing values\n",
    "print(df['product_id'].isnull().sum())\n",
    "print(df['product_id'].isna().sum())"
   ]
  },
  {
   "cell_type": "code",
   "execution_count": 81,
   "id": "0d4fe1e4",
   "metadata": {},
   "outputs": [
    {
     "name": "stdout",
     "output_type": "stream",
     "text": [
      "0\n",
      "0\n"
     ]
    }
   ],
   "source": [
    "#checking 'product_name column' for missing values\n",
    "print(df['product_name'].isnull().sum())\n",
    "print(df['product_name'].isna().sum())"
   ]
  },
  {
   "cell_type": "code",
   "execution_count": 82,
   "id": "d5e39af4",
   "metadata": {},
   "outputs": [
    {
     "name": "stdout",
     "output_type": "stream",
     "text": [
      "0\n",
      "0\n"
     ]
    }
   ],
   "source": [
    "#checking 'department_id' column for missing values\n",
    "print(df['department_id'].isnull().sum())\n",
    "print(df['department_id'].isna().sum())"
   ]
  },
  {
   "cell_type": "code",
   "execution_count": 83,
   "id": "4d5d954c",
   "metadata": {},
   "outputs": [
    {
     "name": "stdout",
     "output_type": "stream",
     "text": [
      "0\n",
      "0\n"
     ]
    }
   ],
   "source": [
    "#checking 'prices' column for missing values\n",
    "print(df['prices'].isnull().sum())\n",
    "print(df['prices'].isna().sum())"
   ]
  },
  {
   "cell_type": "code",
   "execution_count": 84,
   "id": "0162a339",
   "metadata": {},
   "outputs": [],
   "source": [
    "#checking for duplicates\n",
    "df_dup = df[df.duplicated()]"
   ]
  },
  {
   "cell_type": "code",
   "execution_count": 85,
   "id": "2c5c01d4",
   "metadata": {},
   "outputs": [
    {
     "data": {
      "text/html": [
       "<div>\n",
       "<style scoped>\n",
       "    .dataframe tbody tr th:only-of-type {\n",
       "        vertical-align: middle;\n",
       "    }\n",
       "\n",
       "    .dataframe tbody tr th {\n",
       "        vertical-align: top;\n",
       "    }\n",
       "\n",
       "    .dataframe thead th {\n",
       "        text-align: right;\n",
       "    }\n",
       "</style>\n",
       "<table border=\"1\" class=\"dataframe\">\n",
       "  <thead>\n",
       "    <tr style=\"text-align: right;\">\n",
       "      <th></th>\n",
       "      <th>product_id</th>\n",
       "      <th>product_name</th>\n",
       "      <th>department_id</th>\n",
       "      <th>prices</th>\n",
       "    </tr>\n",
       "  </thead>\n",
       "  <tbody>\n",
       "    <tr>\n",
       "      <th>462</th>\n",
       "      <td>462</td>\n",
       "      <td>Fiber 4g Gummy Dietary Supplement</td>\n",
       "      <td>11</td>\n",
       "      <td>4.8</td>\n",
       "    </tr>\n",
       "    <tr>\n",
       "      <th>18459</th>\n",
       "      <td>18458</td>\n",
       "      <td>Ranger IPA</td>\n",
       "      <td>5</td>\n",
       "      <td>9.2</td>\n",
       "    </tr>\n",
       "    <tr>\n",
       "      <th>26810</th>\n",
       "      <td>26808</td>\n",
       "      <td>Black House Coffee Roasty Stout Beer</td>\n",
       "      <td>5</td>\n",
       "      <td>13.4</td>\n",
       "    </tr>\n",
       "    <tr>\n",
       "      <th>35309</th>\n",
       "      <td>35306</td>\n",
       "      <td>Gluten Free Organic Peanut Butter &amp; Chocolate ...</td>\n",
       "      <td>14</td>\n",
       "      <td>6.8</td>\n",
       "    </tr>\n",
       "    <tr>\n",
       "      <th>35495</th>\n",
       "      <td>35491</td>\n",
       "      <td>Adore Forever Body Wash</td>\n",
       "      <td>11</td>\n",
       "      <td>9.9</td>\n",
       "    </tr>\n",
       "  </tbody>\n",
       "</table>\n",
       "</div>"
      ],
      "text/plain": [
       "       product_id                                       product_name  \\\n",
       "462           462                  Fiber 4g Gummy Dietary Supplement   \n",
       "18459       18458                                         Ranger IPA   \n",
       "26810       26808               Black House Coffee Roasty Stout Beer   \n",
       "35309       35306  Gluten Free Organic Peanut Butter & Chocolate ...   \n",
       "35495       35491                            Adore Forever Body Wash   \n",
       "\n",
       "       department_id  prices  \n",
       "462               11     4.8  \n",
       "18459              5     9.2  \n",
       "26810              5    13.4  \n",
       "35309             14     6.8  \n",
       "35495             11     9.9  "
      ]
     },
     "execution_count": 85,
     "metadata": {},
     "output_type": "execute_result"
    }
   ],
   "source": [
    "df_dup.head(20)"
   ]
  },
  {
   "cell_type": "code",
   "execution_count": 86,
   "id": "d421b6cf",
   "metadata": {},
   "outputs": [],
   "source": [
    "#creating new dataframe without duplicates\n",
    "df_no_dub = df.drop_duplicates()"
   ]
  },
  {
   "cell_type": "code",
   "execution_count": 87,
   "id": "3c968baf",
   "metadata": {},
   "outputs": [
    {
     "data": {
      "text/plain": [
       "(49688, 4)"
      ]
     },
     "execution_count": 87,
     "metadata": {},
     "output_type": "execute_result"
    }
   ],
   "source": [
    "df_no_dub.shape"
   ]
  },
  {
   "cell_type": "code",
   "execution_count": 88,
   "id": "2e023c26",
   "metadata": {},
   "outputs": [],
   "source": [
    "#imporitng orders_producsts_combined.pkl file which will be merged with df_no_dub\n",
    "ord_prod = pd.read_pickle(os.path.join(path, '02 Data', 'Prepared data', 'Orders_products_combined.pkl'))"
   ]
  },
  {
   "cell_type": "code",
   "execution_count": 89,
   "id": "e798bba8",
   "metadata": {},
   "outputs": [
    {
     "data": {
      "text/html": [
       "<div>\n",
       "<style scoped>\n",
       "    .dataframe tbody tr th:only-of-type {\n",
       "        vertical-align: middle;\n",
       "    }\n",
       "\n",
       "    .dataframe tbody tr th {\n",
       "        vertical-align: top;\n",
       "    }\n",
       "\n",
       "    .dataframe thead th {\n",
       "        text-align: right;\n",
       "    }\n",
       "</style>\n",
       "<table border=\"1\" class=\"dataframe\">\n",
       "  <thead>\n",
       "    <tr style=\"text-align: right;\">\n",
       "      <th></th>\n",
       "      <th>order_id</th>\n",
       "      <th>product_id</th>\n",
       "      <th>add_to_cart_order</th>\n",
       "      <th>reordered</th>\n",
       "      <th>user_id</th>\n",
       "      <th>order_number</th>\n",
       "      <th>order_dow</th>\n",
       "      <th>order_hour_of_day</th>\n",
       "      <th>days_since_prior_order</th>\n",
       "    </tr>\n",
       "  </thead>\n",
       "  <tbody>\n",
       "    <tr>\n",
       "      <th>0</th>\n",
       "      <td>2</td>\n",
       "      <td>33120</td>\n",
       "      <td>1</td>\n",
       "      <td>1</td>\n",
       "      <td>202279</td>\n",
       "      <td>3</td>\n",
       "      <td>5</td>\n",
       "      <td>9</td>\n",
       "      <td>8.0</td>\n",
       "    </tr>\n",
       "    <tr>\n",
       "      <th>1</th>\n",
       "      <td>2</td>\n",
       "      <td>28985</td>\n",
       "      <td>2</td>\n",
       "      <td>1</td>\n",
       "      <td>202279</td>\n",
       "      <td>3</td>\n",
       "      <td>5</td>\n",
       "      <td>9</td>\n",
       "      <td>8.0</td>\n",
       "    </tr>\n",
       "    <tr>\n",
       "      <th>2</th>\n",
       "      <td>2</td>\n",
       "      <td>9327</td>\n",
       "      <td>3</td>\n",
       "      <td>0</td>\n",
       "      <td>202279</td>\n",
       "      <td>3</td>\n",
       "      <td>5</td>\n",
       "      <td>9</td>\n",
       "      <td>8.0</td>\n",
       "    </tr>\n",
       "    <tr>\n",
       "      <th>3</th>\n",
       "      <td>2</td>\n",
       "      <td>45918</td>\n",
       "      <td>4</td>\n",
       "      <td>1</td>\n",
       "      <td>202279</td>\n",
       "      <td>3</td>\n",
       "      <td>5</td>\n",
       "      <td>9</td>\n",
       "      <td>8.0</td>\n",
       "    </tr>\n",
       "    <tr>\n",
       "      <th>4</th>\n",
       "      <td>2</td>\n",
       "      <td>30035</td>\n",
       "      <td>5</td>\n",
       "      <td>0</td>\n",
       "      <td>202279</td>\n",
       "      <td>3</td>\n",
       "      <td>5</td>\n",
       "      <td>9</td>\n",
       "      <td>8.0</td>\n",
       "    </tr>\n",
       "  </tbody>\n",
       "</table>\n",
       "</div>"
      ],
      "text/plain": [
       "   order_id  product_id  add_to_cart_order  reordered  user_id  order_number  \\\n",
       "0         2       33120                  1          1   202279             3   \n",
       "1         2       28985                  2          1   202279             3   \n",
       "2         2        9327                  3          0   202279             3   \n",
       "3         2       45918                  4          1   202279             3   \n",
       "4         2       30035                  5          0   202279             3   \n",
       "\n",
       "   order_dow  order_hour_of_day  days_since_prior_order  \n",
       "0          5                  9                     8.0  \n",
       "1          5                  9                     8.0  \n",
       "2          5                  9                     8.0  \n",
       "3          5                  9                     8.0  \n",
       "4          5                  9                     8.0  "
      ]
     },
     "execution_count": 89,
     "metadata": {},
     "output_type": "execute_result"
    }
   ],
   "source": [
    "ord_prod.head()"
   ]
  },
  {
   "cell_type": "code",
   "execution_count": 90,
   "id": "2de90f79",
   "metadata": {},
   "outputs": [
    {
     "data": {
      "text/plain": [
       "(32434489, 9)"
      ]
     },
     "execution_count": 90,
     "metadata": {},
     "output_type": "execute_result"
    }
   ],
   "source": [
    "ord_prod.shape"
   ]
  },
  {
   "cell_type": "code",
   "execution_count": 91,
   "id": "e34d961c",
   "metadata": {},
   "outputs": [],
   "source": [
    "df_merged = ord_prod.merge(df_no_dub, on = 'product_id', how = 'left', indicator = True)"
   ]
  },
  {
   "cell_type": "code",
   "execution_count": 92,
   "id": "d3552e15",
   "metadata": {},
   "outputs": [
    {
     "data": {
      "text/plain": [
       "(32435059, 13)"
      ]
     },
     "execution_count": 92,
     "metadata": {},
     "output_type": "execute_result"
    }
   ],
   "source": [
    "df_merged.shape"
   ]
  },
  {
   "cell_type": "code",
   "execution_count": 93,
   "id": "d4d0d54f",
   "metadata": {},
   "outputs": [
    {
     "data": {
      "text/html": [
       "<div>\n",
       "<style scoped>\n",
       "    .dataframe tbody tr th:only-of-type {\n",
       "        vertical-align: middle;\n",
       "    }\n",
       "\n",
       "    .dataframe tbody tr th {\n",
       "        vertical-align: top;\n",
       "    }\n",
       "\n",
       "    .dataframe thead th {\n",
       "        text-align: right;\n",
       "    }\n",
       "</style>\n",
       "<table border=\"1\" class=\"dataframe\">\n",
       "  <thead>\n",
       "    <tr style=\"text-align: right;\">\n",
       "      <th></th>\n",
       "      <th>order_id</th>\n",
       "      <th>product_id</th>\n",
       "      <th>add_to_cart_order</th>\n",
       "      <th>reordered</th>\n",
       "      <th>user_id</th>\n",
       "      <th>order_number</th>\n",
       "      <th>order_dow</th>\n",
       "      <th>order_hour_of_day</th>\n",
       "      <th>days_since_prior_order</th>\n",
       "      <th>product_name</th>\n",
       "      <th>department_id</th>\n",
       "      <th>prices</th>\n",
       "      <th>_merge</th>\n",
       "    </tr>\n",
       "  </thead>\n",
       "  <tbody>\n",
       "    <tr>\n",
       "      <th>0</th>\n",
       "      <td>2</td>\n",
       "      <td>33120</td>\n",
       "      <td>1</td>\n",
       "      <td>1</td>\n",
       "      <td>202279</td>\n",
       "      <td>3</td>\n",
       "      <td>5</td>\n",
       "      <td>9</td>\n",
       "      <td>8.0</td>\n",
       "      <td>Organic Egg Whites</td>\n",
       "      <td>16.0</td>\n",
       "      <td>11.3</td>\n",
       "      <td>both</td>\n",
       "    </tr>\n",
       "    <tr>\n",
       "      <th>1</th>\n",
       "      <td>2</td>\n",
       "      <td>28985</td>\n",
       "      <td>2</td>\n",
       "      <td>1</td>\n",
       "      <td>202279</td>\n",
       "      <td>3</td>\n",
       "      <td>5</td>\n",
       "      <td>9</td>\n",
       "      <td>8.0</td>\n",
       "      <td>Michigan Organic Kale</td>\n",
       "      <td>4.0</td>\n",
       "      <td>13.4</td>\n",
       "      <td>both</td>\n",
       "    </tr>\n",
       "    <tr>\n",
       "      <th>2</th>\n",
       "      <td>2</td>\n",
       "      <td>9327</td>\n",
       "      <td>3</td>\n",
       "      <td>0</td>\n",
       "      <td>202279</td>\n",
       "      <td>3</td>\n",
       "      <td>5</td>\n",
       "      <td>9</td>\n",
       "      <td>8.0</td>\n",
       "      <td>Garlic Powder</td>\n",
       "      <td>13.0</td>\n",
       "      <td>3.6</td>\n",
       "      <td>both</td>\n",
       "    </tr>\n",
       "    <tr>\n",
       "      <th>3</th>\n",
       "      <td>2</td>\n",
       "      <td>45918</td>\n",
       "      <td>4</td>\n",
       "      <td>1</td>\n",
       "      <td>202279</td>\n",
       "      <td>3</td>\n",
       "      <td>5</td>\n",
       "      <td>9</td>\n",
       "      <td>8.0</td>\n",
       "      <td>Coconut Butter</td>\n",
       "      <td>13.0</td>\n",
       "      <td>8.4</td>\n",
       "      <td>both</td>\n",
       "    </tr>\n",
       "    <tr>\n",
       "      <th>4</th>\n",
       "      <td>2</td>\n",
       "      <td>30035</td>\n",
       "      <td>5</td>\n",
       "      <td>0</td>\n",
       "      <td>202279</td>\n",
       "      <td>3</td>\n",
       "      <td>5</td>\n",
       "      <td>9</td>\n",
       "      <td>8.0</td>\n",
       "      <td>Natural Sweetener</td>\n",
       "      <td>13.0</td>\n",
       "      <td>13.7</td>\n",
       "      <td>both</td>\n",
       "    </tr>\n",
       "  </tbody>\n",
       "</table>\n",
       "</div>"
      ],
      "text/plain": [
       "   order_id  product_id  add_to_cart_order  reordered  user_id  order_number  \\\n",
       "0         2       33120                  1          1   202279             3   \n",
       "1         2       28985                  2          1   202279             3   \n",
       "2         2        9327                  3          0   202279             3   \n",
       "3         2       45918                  4          1   202279             3   \n",
       "4         2       30035                  5          0   202279             3   \n",
       "\n",
       "   order_dow  order_hour_of_day  days_since_prior_order  \\\n",
       "0          5                  9                     8.0   \n",
       "1          5                  9                     8.0   \n",
       "2          5                  9                     8.0   \n",
       "3          5                  9                     8.0   \n",
       "4          5                  9                     8.0   \n",
       "\n",
       "            product_name  department_id  prices _merge  \n",
       "0     Organic Egg Whites           16.0    11.3   both  \n",
       "1  Michigan Organic Kale            4.0    13.4   both  \n",
       "2          Garlic Powder           13.0     3.6   both  \n",
       "3         Coconut Butter           13.0     8.4   both  \n",
       "4      Natural Sweetener           13.0    13.7   both  "
      ]
     },
     "execution_count": 93,
     "metadata": {},
     "output_type": "execute_result"
    }
   ],
   "source": [
    "df_merged.head()"
   ]
  },
  {
   "cell_type": "code",
   "execution_count": 94,
   "id": "51b2e091",
   "metadata": {},
   "outputs": [
    {
     "data": {
      "text/plain": [
       "both          32433030\n",
       "left_only         2029\n",
       "right_only           0\n",
       "Name: _merge, dtype: int64"
      ]
     },
     "execution_count": 94,
     "metadata": {},
     "output_type": "execute_result"
    }
   ],
   "source": [
    "df_merged['_merge'].value_counts()"
   ]
  },
  {
   "cell_type": "code",
   "execution_count": 95,
   "id": "b16cd728",
   "metadata": {},
   "outputs": [
    {
     "data": {
      "text/html": [
       "<div>\n",
       "<style scoped>\n",
       "    .dataframe tbody tr th:only-of-type {\n",
       "        vertical-align: middle;\n",
       "    }\n",
       "\n",
       "    .dataframe tbody tr th {\n",
       "        vertical-align: top;\n",
       "    }\n",
       "\n",
       "    .dataframe thead th {\n",
       "        text-align: right;\n",
       "    }\n",
       "</style>\n",
       "<table border=\"1\" class=\"dataframe\">\n",
       "  <thead>\n",
       "    <tr style=\"text-align: right;\">\n",
       "      <th></th>\n",
       "      <th>order_id</th>\n",
       "      <th>product_id</th>\n",
       "      <th>add_to_cart_order</th>\n",
       "      <th>reordered</th>\n",
       "      <th>user_id</th>\n",
       "      <th>order_number</th>\n",
       "      <th>order_dow</th>\n",
       "      <th>order_hour_of_day</th>\n",
       "      <th>days_since_prior_order</th>\n",
       "      <th>product_name</th>\n",
       "      <th>department_id</th>\n",
       "      <th>prices</th>\n",
       "      <th>_merge</th>\n",
       "    </tr>\n",
       "  </thead>\n",
       "  <tbody>\n",
       "    <tr>\n",
       "      <th>16863</th>\n",
       "      <td>1770</td>\n",
       "      <td>6799</td>\n",
       "      <td>11</td>\n",
       "      <td>1</td>\n",
       "      <td>678</td>\n",
       "      <td>18</td>\n",
       "      <td>3</td>\n",
       "      <td>13</td>\n",
       "      <td>12.0</td>\n",
       "      <td>NaN</td>\n",
       "      <td>NaN</td>\n",
       "      <td>NaN</td>\n",
       "      <td>left_only</td>\n",
       "    </tr>\n",
       "    <tr>\n",
       "      <th>32562</th>\n",
       "      <td>3387</td>\n",
       "      <td>6799</td>\n",
       "      <td>26</td>\n",
       "      <td>1</td>\n",
       "      <td>175450</td>\n",
       "      <td>9</td>\n",
       "      <td>1</td>\n",
       "      <td>19</td>\n",
       "      <td>17.0</td>\n",
       "      <td>NaN</td>\n",
       "      <td>NaN</td>\n",
       "      <td>NaN</td>\n",
       "      <td>left_only</td>\n",
       "    </tr>\n",
       "    <tr>\n",
       "      <th>66688</th>\n",
       "      <td>7099</td>\n",
       "      <td>6799</td>\n",
       "      <td>1</td>\n",
       "      <td>0</td>\n",
       "      <td>27</td>\n",
       "      <td>63</td>\n",
       "      <td>3</td>\n",
       "      <td>10</td>\n",
       "      <td>1.0</td>\n",
       "      <td>NaN</td>\n",
       "      <td>NaN</td>\n",
       "      <td>NaN</td>\n",
       "      <td>left_only</td>\n",
       "    </tr>\n",
       "    <tr>\n",
       "      <th>72827</th>\n",
       "      <td>7754</td>\n",
       "      <td>6799</td>\n",
       "      <td>7</td>\n",
       "      <td>1</td>\n",
       "      <td>1629</td>\n",
       "      <td>20</td>\n",
       "      <td>3</td>\n",
       "      <td>18</td>\n",
       "      <td>10.0</td>\n",
       "      <td>NaN</td>\n",
       "      <td>NaN</td>\n",
       "      <td>NaN</td>\n",
       "      <td>left_only</td>\n",
       "    </tr>\n",
       "    <tr>\n",
       "      <th>76643</th>\n",
       "      <td>8153</td>\n",
       "      <td>6799</td>\n",
       "      <td>8</td>\n",
       "      <td>0</td>\n",
       "      <td>56820</td>\n",
       "      <td>2</td>\n",
       "      <td>1</td>\n",
       "      <td>19</td>\n",
       "      <td>30.0</td>\n",
       "      <td>NaN</td>\n",
       "      <td>NaN</td>\n",
       "      <td>NaN</td>\n",
       "      <td>left_only</td>\n",
       "    </tr>\n",
       "    <tr>\n",
       "      <th>...</th>\n",
       "      <td>...</td>\n",
       "      <td>...</td>\n",
       "      <td>...</td>\n",
       "      <td>...</td>\n",
       "      <td>...</td>\n",
       "      <td>...</td>\n",
       "      <td>...</td>\n",
       "      <td>...</td>\n",
       "      <td>...</td>\n",
       "      <td>...</td>\n",
       "      <td>...</td>\n",
       "      <td>...</td>\n",
       "      <td>...</td>\n",
       "    </tr>\n",
       "    <tr>\n",
       "      <th>32395275</th>\n",
       "      <td>3416959</td>\n",
       "      <td>6799</td>\n",
       "      <td>5</td>\n",
       "      <td>1</td>\n",
       "      <td>200798</td>\n",
       "      <td>29</td>\n",
       "      <td>2</td>\n",
       "      <td>20</td>\n",
       "      <td>8.0</td>\n",
       "      <td>NaN</td>\n",
       "      <td>NaN</td>\n",
       "      <td>NaN</td>\n",
       "      <td>left_only</td>\n",
       "    </tr>\n",
       "    <tr>\n",
       "      <th>32396358</th>\n",
       "      <td>3417067</td>\n",
       "      <td>6799</td>\n",
       "      <td>2</td>\n",
       "      <td>1</td>\n",
       "      <td>161107</td>\n",
       "      <td>9</td>\n",
       "      <td>2</td>\n",
       "      <td>17</td>\n",
       "      <td>24.0</td>\n",
       "      <td>NaN</td>\n",
       "      <td>NaN</td>\n",
       "      <td>NaN</td>\n",
       "      <td>left_only</td>\n",
       "    </tr>\n",
       "    <tr>\n",
       "      <th>32414881</th>\n",
       "      <td>3418993</td>\n",
       "      <td>6799</td>\n",
       "      <td>7</td>\n",
       "      <td>0</td>\n",
       "      <td>205789</td>\n",
       "      <td>13</td>\n",
       "      <td>6</td>\n",
       "      <td>12</td>\n",
       "      <td>7.0</td>\n",
       "      <td>NaN</td>\n",
       "      <td>NaN</td>\n",
       "      <td>NaN</td>\n",
       "      <td>left_only</td>\n",
       "    </tr>\n",
       "    <tr>\n",
       "      <th>32419959</th>\n",
       "      <td>3419520</td>\n",
       "      <td>6799</td>\n",
       "      <td>4</td>\n",
       "      <td>1</td>\n",
       "      <td>108303</td>\n",
       "      <td>18</td>\n",
       "      <td>1</td>\n",
       "      <td>15</td>\n",
       "      <td>1.0</td>\n",
       "      <td>NaN</td>\n",
       "      <td>NaN</td>\n",
       "      <td>NaN</td>\n",
       "      <td>left_only</td>\n",
       "    </tr>\n",
       "    <tr>\n",
       "      <th>32427804</th>\n",
       "      <td>3420332</td>\n",
       "      <td>6799</td>\n",
       "      <td>4</td>\n",
       "      <td>1</td>\n",
       "      <td>147613</td>\n",
       "      <td>16</td>\n",
       "      <td>3</td>\n",
       "      <td>10</td>\n",
       "      <td>28.0</td>\n",
       "      <td>NaN</td>\n",
       "      <td>NaN</td>\n",
       "      <td>NaN</td>\n",
       "      <td>left_only</td>\n",
       "    </tr>\n",
       "  </tbody>\n",
       "</table>\n",
       "<p>2029 rows × 13 columns</p>\n",
       "</div>"
      ],
      "text/plain": [
       "          order_id  product_id  add_to_cart_order  reordered  user_id  \\\n",
       "16863         1770        6799                 11          1      678   \n",
       "32562         3387        6799                 26          1   175450   \n",
       "66688         7099        6799                  1          0       27   \n",
       "72827         7754        6799                  7          1     1629   \n",
       "76643         8153        6799                  8          0    56820   \n",
       "...            ...         ...                ...        ...      ...   \n",
       "32395275   3416959        6799                  5          1   200798   \n",
       "32396358   3417067        6799                  2          1   161107   \n",
       "32414881   3418993        6799                  7          0   205789   \n",
       "32419959   3419520        6799                  4          1   108303   \n",
       "32427804   3420332        6799                  4          1   147613   \n",
       "\n",
       "          order_number  order_dow  order_hour_of_day  days_since_prior_order  \\\n",
       "16863               18          3                 13                    12.0   \n",
       "32562                9          1                 19                    17.0   \n",
       "66688               63          3                 10                     1.0   \n",
       "72827               20          3                 18                    10.0   \n",
       "76643                2          1                 19                    30.0   \n",
       "...                ...        ...                ...                     ...   \n",
       "32395275            29          2                 20                     8.0   \n",
       "32396358             9          2                 17                    24.0   \n",
       "32414881            13          6                 12                     7.0   \n",
       "32419959            18          1                 15                     1.0   \n",
       "32427804            16          3                 10                    28.0   \n",
       "\n",
       "         product_name  department_id  prices     _merge  \n",
       "16863             NaN            NaN     NaN  left_only  \n",
       "32562             NaN            NaN     NaN  left_only  \n",
       "66688             NaN            NaN     NaN  left_only  \n",
       "72827             NaN            NaN     NaN  left_only  \n",
       "76643             NaN            NaN     NaN  left_only  \n",
       "...               ...            ...     ...        ...  \n",
       "32395275          NaN            NaN     NaN  left_only  \n",
       "32396358          NaN            NaN     NaN  left_only  \n",
       "32414881          NaN            NaN     NaN  left_only  \n",
       "32419959          NaN            NaN     NaN  left_only  \n",
       "32427804          NaN            NaN     NaN  left_only  \n",
       "\n",
       "[2029 rows x 13 columns]"
      ]
     },
     "execution_count": 95,
     "metadata": {},
     "output_type": "execute_result"
    }
   ],
   "source": [
    "#merging orders and product information\n",
    "df_merged[df_merged['_merge']=='left_only']"
   ]
  },
  {
   "cell_type": "code",
   "execution_count": 96,
   "id": "7a408c36",
   "metadata": {},
   "outputs": [
    {
     "data": {
      "text/html": [
       "<div>\n",
       "<style scoped>\n",
       "    .dataframe tbody tr th:only-of-type {\n",
       "        vertical-align: middle;\n",
       "    }\n",
       "\n",
       "    .dataframe tbody tr th {\n",
       "        vertical-align: top;\n",
       "    }\n",
       "\n",
       "    .dataframe thead th {\n",
       "        text-align: right;\n",
       "    }\n",
       "</style>\n",
       "<table border=\"1\" class=\"dataframe\">\n",
       "  <thead>\n",
       "    <tr style=\"text-align: right;\">\n",
       "      <th></th>\n",
       "      <th>order_id</th>\n",
       "      <th>product_id</th>\n",
       "      <th>add_to_cart_order</th>\n",
       "      <th>reordered</th>\n",
       "      <th>user_id</th>\n",
       "      <th>order_number</th>\n",
       "      <th>order_dow</th>\n",
       "      <th>order_hour_of_day</th>\n",
       "      <th>days_since_prior_order</th>\n",
       "      <th>product_name</th>\n",
       "      <th>department_id</th>\n",
       "      <th>prices</th>\n",
       "      <th>_merge</th>\n",
       "    </tr>\n",
       "  </thead>\n",
       "  <tbody>\n",
       "    <tr>\n",
       "      <th>16863</th>\n",
       "      <td>1770</td>\n",
       "      <td>6799</td>\n",
       "      <td>11</td>\n",
       "      <td>1</td>\n",
       "      <td>678</td>\n",
       "      <td>18</td>\n",
       "      <td>3</td>\n",
       "      <td>13</td>\n",
       "      <td>12.0</td>\n",
       "      <td>NaN</td>\n",
       "      <td>NaN</td>\n",
       "      <td>NaN</td>\n",
       "      <td>left_only</td>\n",
       "    </tr>\n",
       "    <tr>\n",
       "      <th>32562</th>\n",
       "      <td>3387</td>\n",
       "      <td>6799</td>\n",
       "      <td>26</td>\n",
       "      <td>1</td>\n",
       "      <td>175450</td>\n",
       "      <td>9</td>\n",
       "      <td>1</td>\n",
       "      <td>19</td>\n",
       "      <td>17.0</td>\n",
       "      <td>NaN</td>\n",
       "      <td>NaN</td>\n",
       "      <td>NaN</td>\n",
       "      <td>left_only</td>\n",
       "    </tr>\n",
       "    <tr>\n",
       "      <th>66688</th>\n",
       "      <td>7099</td>\n",
       "      <td>6799</td>\n",
       "      <td>1</td>\n",
       "      <td>0</td>\n",
       "      <td>27</td>\n",
       "      <td>63</td>\n",
       "      <td>3</td>\n",
       "      <td>10</td>\n",
       "      <td>1.0</td>\n",
       "      <td>NaN</td>\n",
       "      <td>NaN</td>\n",
       "      <td>NaN</td>\n",
       "      <td>left_only</td>\n",
       "    </tr>\n",
       "    <tr>\n",
       "      <th>72827</th>\n",
       "      <td>7754</td>\n",
       "      <td>6799</td>\n",
       "      <td>7</td>\n",
       "      <td>1</td>\n",
       "      <td>1629</td>\n",
       "      <td>20</td>\n",
       "      <td>3</td>\n",
       "      <td>18</td>\n",
       "      <td>10.0</td>\n",
       "      <td>NaN</td>\n",
       "      <td>NaN</td>\n",
       "      <td>NaN</td>\n",
       "      <td>left_only</td>\n",
       "    </tr>\n",
       "    <tr>\n",
       "      <th>76643</th>\n",
       "      <td>8153</td>\n",
       "      <td>6799</td>\n",
       "      <td>8</td>\n",
       "      <td>0</td>\n",
       "      <td>56820</td>\n",
       "      <td>2</td>\n",
       "      <td>1</td>\n",
       "      <td>19</td>\n",
       "      <td>30.0</td>\n",
       "      <td>NaN</td>\n",
       "      <td>NaN</td>\n",
       "      <td>NaN</td>\n",
       "      <td>left_only</td>\n",
       "    </tr>\n",
       "    <tr>\n",
       "      <th>...</th>\n",
       "      <td>...</td>\n",
       "      <td>...</td>\n",
       "      <td>...</td>\n",
       "      <td>...</td>\n",
       "      <td>...</td>\n",
       "      <td>...</td>\n",
       "      <td>...</td>\n",
       "      <td>...</td>\n",
       "      <td>...</td>\n",
       "      <td>...</td>\n",
       "      <td>...</td>\n",
       "      <td>...</td>\n",
       "      <td>...</td>\n",
       "    </tr>\n",
       "    <tr>\n",
       "      <th>32395275</th>\n",
       "      <td>3416959</td>\n",
       "      <td>6799</td>\n",
       "      <td>5</td>\n",
       "      <td>1</td>\n",
       "      <td>200798</td>\n",
       "      <td>29</td>\n",
       "      <td>2</td>\n",
       "      <td>20</td>\n",
       "      <td>8.0</td>\n",
       "      <td>NaN</td>\n",
       "      <td>NaN</td>\n",
       "      <td>NaN</td>\n",
       "      <td>left_only</td>\n",
       "    </tr>\n",
       "    <tr>\n",
       "      <th>32396358</th>\n",
       "      <td>3417067</td>\n",
       "      <td>6799</td>\n",
       "      <td>2</td>\n",
       "      <td>1</td>\n",
       "      <td>161107</td>\n",
       "      <td>9</td>\n",
       "      <td>2</td>\n",
       "      <td>17</td>\n",
       "      <td>24.0</td>\n",
       "      <td>NaN</td>\n",
       "      <td>NaN</td>\n",
       "      <td>NaN</td>\n",
       "      <td>left_only</td>\n",
       "    </tr>\n",
       "    <tr>\n",
       "      <th>32414881</th>\n",
       "      <td>3418993</td>\n",
       "      <td>6799</td>\n",
       "      <td>7</td>\n",
       "      <td>0</td>\n",
       "      <td>205789</td>\n",
       "      <td>13</td>\n",
       "      <td>6</td>\n",
       "      <td>12</td>\n",
       "      <td>7.0</td>\n",
       "      <td>NaN</td>\n",
       "      <td>NaN</td>\n",
       "      <td>NaN</td>\n",
       "      <td>left_only</td>\n",
       "    </tr>\n",
       "    <tr>\n",
       "      <th>32419959</th>\n",
       "      <td>3419520</td>\n",
       "      <td>6799</td>\n",
       "      <td>4</td>\n",
       "      <td>1</td>\n",
       "      <td>108303</td>\n",
       "      <td>18</td>\n",
       "      <td>1</td>\n",
       "      <td>15</td>\n",
       "      <td>1.0</td>\n",
       "      <td>NaN</td>\n",
       "      <td>NaN</td>\n",
       "      <td>NaN</td>\n",
       "      <td>left_only</td>\n",
       "    </tr>\n",
       "    <tr>\n",
       "      <th>32427804</th>\n",
       "      <td>3420332</td>\n",
       "      <td>6799</td>\n",
       "      <td>4</td>\n",
       "      <td>1</td>\n",
       "      <td>147613</td>\n",
       "      <td>16</td>\n",
       "      <td>3</td>\n",
       "      <td>10</td>\n",
       "      <td>28.0</td>\n",
       "      <td>NaN</td>\n",
       "      <td>NaN</td>\n",
       "      <td>NaN</td>\n",
       "      <td>left_only</td>\n",
       "    </tr>\n",
       "  </tbody>\n",
       "</table>\n",
       "<p>2029 rows × 13 columns</p>\n",
       "</div>"
      ],
      "text/plain": [
       "          order_id  product_id  add_to_cart_order  reordered  user_id  \\\n",
       "16863         1770        6799                 11          1      678   \n",
       "32562         3387        6799                 26          1   175450   \n",
       "66688         7099        6799                  1          0       27   \n",
       "72827         7754        6799                  7          1     1629   \n",
       "76643         8153        6799                  8          0    56820   \n",
       "...            ...         ...                ...        ...      ...   \n",
       "32395275   3416959        6799                  5          1   200798   \n",
       "32396358   3417067        6799                  2          1   161107   \n",
       "32414881   3418993        6799                  7          0   205789   \n",
       "32419959   3419520        6799                  4          1   108303   \n",
       "32427804   3420332        6799                  4          1   147613   \n",
       "\n",
       "          order_number  order_dow  order_hour_of_day  days_since_prior_order  \\\n",
       "16863               18          3                 13                    12.0   \n",
       "32562                9          1                 19                    17.0   \n",
       "66688               63          3                 10                     1.0   \n",
       "72827               20          3                 18                    10.0   \n",
       "76643                2          1                 19                    30.0   \n",
       "...                ...        ...                ...                     ...   \n",
       "32395275            29          2                 20                     8.0   \n",
       "32396358             9          2                 17                    24.0   \n",
       "32414881            13          6                 12                     7.0   \n",
       "32419959            18          1                 15                     1.0   \n",
       "32427804            16          3                 10                    28.0   \n",
       "\n",
       "         product_name  department_id  prices     _merge  \n",
       "16863             NaN            NaN     NaN  left_only  \n",
       "32562             NaN            NaN     NaN  left_only  \n",
       "66688             NaN            NaN     NaN  left_only  \n",
       "72827             NaN            NaN     NaN  left_only  \n",
       "76643             NaN            NaN     NaN  left_only  \n",
       "...               ...            ...     ...        ...  \n",
       "32395275          NaN            NaN     NaN  left_only  \n",
       "32396358          NaN            NaN     NaN  left_only  \n",
       "32414881          NaN            NaN     NaN  left_only  \n",
       "32419959          NaN            NaN     NaN  left_only  \n",
       "32427804          NaN            NaN     NaN  left_only  \n",
       "\n",
       "[2029 rows x 13 columns]"
      ]
     },
     "execution_count": 96,
     "metadata": {},
     "output_type": "execute_result"
    }
   ],
   "source": [
    "#checking the orders where product_name value is empty\n",
    "df_merged[df_merged['product_name'].isna() == True]"
   ]
  },
  {
   "cell_type": "code",
   "execution_count": 97,
   "id": "9a49ca63",
   "metadata": {},
   "outputs": [],
   "source": [
    "#getting rid of the rows which don't have information about product. \n",
    "df_merged_clean = df_merged[df_merged['product_name'].isna() == False]"
   ]
  },
  {
   "cell_type": "code",
   "execution_count": 98,
   "id": "88461bcc",
   "metadata": {},
   "outputs": [
    {
     "data": {
      "text/plain": [
       "(32433030, 13)"
      ]
     },
     "execution_count": 98,
     "metadata": {},
     "output_type": "execute_result"
    }
   ],
   "source": [
    "df_merged_clean.shape"
   ]
  },
  {
   "cell_type": "code",
   "execution_count": 101,
   "id": "2dfce7b8",
   "metadata": {},
   "outputs": [],
   "source": [
    "#checking for duplicates\n",
    "df_merged_clean_dup = df_merged_clean[df_merged_clean.duplicated()]"
   ]
  },
  {
   "cell_type": "code",
   "execution_count": 102,
   "id": "c8b1149f",
   "metadata": {},
   "outputs": [
    {
     "data": {
      "text/html": [
       "<div>\n",
       "<style scoped>\n",
       "    .dataframe tbody tr th:only-of-type {\n",
       "        vertical-align: middle;\n",
       "    }\n",
       "\n",
       "    .dataframe tbody tr th {\n",
       "        vertical-align: top;\n",
       "    }\n",
       "\n",
       "    .dataframe thead th {\n",
       "        text-align: right;\n",
       "    }\n",
       "</style>\n",
       "<table border=\"1\" class=\"dataframe\">\n",
       "  <thead>\n",
       "    <tr style=\"text-align: right;\">\n",
       "      <th></th>\n",
       "      <th>order_id</th>\n",
       "      <th>product_id</th>\n",
       "      <th>add_to_cart_order</th>\n",
       "      <th>reordered</th>\n",
       "      <th>user_id</th>\n",
       "      <th>order_number</th>\n",
       "      <th>order_dow</th>\n",
       "      <th>order_hour_of_day</th>\n",
       "      <th>days_since_prior_order</th>\n",
       "      <th>product_name</th>\n",
       "      <th>department_id</th>\n",
       "      <th>prices</th>\n",
       "      <th>_merge</th>\n",
       "    </tr>\n",
       "  </thead>\n",
       "  <tbody>\n",
       "  </tbody>\n",
       "</table>\n",
       "</div>"
      ],
      "text/plain": [
       "Empty DataFrame\n",
       "Columns: [order_id, product_id, add_to_cart_order, reordered, user_id, order_number, order_dow, order_hour_of_day, days_since_prior_order, product_name, department_id, prices, _merge]\n",
       "Index: []"
      ]
     },
     "execution_count": 102,
     "metadata": {},
     "output_type": "execute_result"
    }
   ],
   "source": [
    "df_merged_clean_dup"
   ]
  },
  {
   "cell_type": "markdown",
   "id": "c5be27a9",
   "metadata": {},
   "source": [
    "Comment: no duplicates found"
   ]
  },
  {
   "cell_type": "code",
   "execution_count": 105,
   "id": "7e32eb14",
   "metadata": {},
   "outputs": [],
   "source": [
    "#getting rid of merge indicator\n",
    "df_merged_clean = df_merged_clean.drop(columns= ['_merge'])"
   ]
  },
  {
   "cell_type": "code",
   "execution_count": 106,
   "id": "2e40eae1",
   "metadata": {},
   "outputs": [
    {
     "data": {
      "text/plain": [
       "(32433030, 12)"
      ]
     },
     "execution_count": 106,
     "metadata": {},
     "output_type": "execute_result"
    }
   ],
   "source": [
    "df_merged_clean.shape"
   ]
  },
  {
   "cell_type": "code",
   "execution_count": 107,
   "id": "f501099c",
   "metadata": {},
   "outputs": [],
   "source": [
    "#exporting the results\n",
    "df_merged_clean.to_pickle(os.path.join(path, '02 Data', 'Prepared Data', 'Orders_products_merged.pkl'))"
   ]
  },
  {
   "cell_type": "code",
   "execution_count": null,
   "id": "a0f048ee",
   "metadata": {},
   "outputs": [],
   "source": []
  }
 ],
 "metadata": {
  "kernelspec": {
   "display_name": "Python 3 (ipykernel)",
   "language": "python",
   "name": "python3"
  },
  "language_info": {
   "codemirror_mode": {
    "name": "ipython",
    "version": 3
   },
   "file_extension": ".py",
   "mimetype": "text/x-python",
   "name": "python",
   "nbconvert_exporter": "python",
   "pygments_lexer": "ipython3",
   "version": "3.9.13"
  }
 },
 "nbformat": 4,
 "nbformat_minor": 5
}

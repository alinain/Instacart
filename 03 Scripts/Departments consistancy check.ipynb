{
 "cells": [
  {
   "cell_type": "code",
   "execution_count": 155,
   "id": "8878e56b",
   "metadata": {},
   "outputs": [],
   "source": [
    "import pandas as pd\n",
    "import numpy as np\n",
    "import os"
   ]
  },
  {
   "cell_type": "code",
   "execution_count": 156,
   "id": "68d4c20b",
   "metadata": {},
   "outputs": [],
   "source": [
    "path = r'C:\\Users\\esgib\\Desktop\\Alina\\Course 4\\Instacart Basket Analysis'"
   ]
  },
  {
   "cell_type": "code",
   "execution_count": 157,
   "id": "c8da41a0",
   "metadata": {},
   "outputs": [],
   "source": [
    "df = pd.read_csv(os.path.join(path, '02 Data', 'Original Data', 'Departments.csv'))"
   ]
  },
  {
   "cell_type": "code",
   "execution_count": 158,
   "id": "31ea4781",
   "metadata": {},
   "outputs": [
    {
     "data": {
      "text/html": [
       "<div>\n",
       "<style scoped>\n",
       "    .dataframe tbody tr th:only-of-type {\n",
       "        vertical-align: middle;\n",
       "    }\n",
       "\n",
       "    .dataframe tbody tr th {\n",
       "        vertical-align: top;\n",
       "    }\n",
       "\n",
       "    .dataframe thead th {\n",
       "        text-align: right;\n",
       "    }\n",
       "</style>\n",
       "<table border=\"1\" class=\"dataframe\">\n",
       "  <thead>\n",
       "    <tr style=\"text-align: right;\">\n",
       "      <th></th>\n",
       "      <th>department_id</th>\n",
       "      <th>1</th>\n",
       "      <th>2</th>\n",
       "      <th>3</th>\n",
       "      <th>4</th>\n",
       "      <th>5</th>\n",
       "      <th>6</th>\n",
       "      <th>7</th>\n",
       "      <th>8</th>\n",
       "      <th>9</th>\n",
       "      <th>...</th>\n",
       "      <th>12</th>\n",
       "      <th>13</th>\n",
       "      <th>14</th>\n",
       "      <th>15</th>\n",
       "      <th>16</th>\n",
       "      <th>17</th>\n",
       "      <th>18</th>\n",
       "      <th>19</th>\n",
       "      <th>20</th>\n",
       "      <th>21</th>\n",
       "    </tr>\n",
       "  </thead>\n",
       "  <tbody>\n",
       "    <tr>\n",
       "      <th>0</th>\n",
       "      <td>department</td>\n",
       "      <td>frozen</td>\n",
       "      <td>other</td>\n",
       "      <td>bakery</td>\n",
       "      <td>produce</td>\n",
       "      <td>alcohol</td>\n",
       "      <td>international</td>\n",
       "      <td>beverages</td>\n",
       "      <td>pets</td>\n",
       "      <td>dry goods pasta</td>\n",
       "      <td>...</td>\n",
       "      <td>meat seafood</td>\n",
       "      <td>pantry</td>\n",
       "      <td>breakfast</td>\n",
       "      <td>canned goods</td>\n",
       "      <td>dairy eggs</td>\n",
       "      <td>household</td>\n",
       "      <td>babies</td>\n",
       "      <td>snacks</td>\n",
       "      <td>deli</td>\n",
       "      <td>missing</td>\n",
       "    </tr>\n",
       "  </tbody>\n",
       "</table>\n",
       "<p>1 rows × 22 columns</p>\n",
       "</div>"
      ],
      "text/plain": [
       "  department_id       1      2       3        4        5              6  \\\n",
       "0    department  frozen  other  bakery  produce  alcohol  international   \n",
       "\n",
       "           7     8                9  ...            12      13         14  \\\n",
       "0  beverages  pets  dry goods pasta  ...  meat seafood  pantry  breakfast   \n",
       "\n",
       "             15          16         17      18      19    20       21  \n",
       "0  canned goods  dairy eggs  household  babies  snacks  deli  missing  \n",
       "\n",
       "[1 rows x 22 columns]"
      ]
     },
     "execution_count": 158,
     "metadata": {},
     "output_type": "execute_result"
    }
   ],
   "source": [
    "df.head()"
   ]
  },
  {
   "cell_type": "code",
   "execution_count": 163,
   "id": "223927eb",
   "metadata": {},
   "outputs": [],
   "source": [
    "df = df.T"
   ]
  },
  {
   "cell_type": "code",
   "execution_count": 164,
   "id": "3f01d52d",
   "metadata": {},
   "outputs": [],
   "source": [
    "df.to_clipboard()"
   ]
  },
  {
   "cell_type": "code",
   "execution_count": 165,
   "id": "01d43b8b",
   "metadata": {},
   "outputs": [],
   "source": [
    "df = pd.read_clipboard()"
   ]
  },
  {
   "cell_type": "code",
   "execution_count": 172,
   "id": "e476e059",
   "metadata": {},
   "outputs": [
    {
     "data": {
      "text/plain": [
       "department_id     int64\n",
       "department       object\n",
       "dtype: object"
      ]
     },
     "execution_count": 172,
     "metadata": {},
     "output_type": "execute_result"
    }
   ],
   "source": [
    "df.dtypes"
   ]
  },
  {
   "cell_type": "code",
   "execution_count": 173,
   "id": "e8ee1234",
   "metadata": {},
   "outputs": [],
   "source": [
    "df['department_id'] = df['department_id'].astype('int32')"
   ]
  },
  {
   "cell_type": "code",
   "execution_count": 174,
   "id": "dececf04",
   "metadata": {},
   "outputs": [],
   "source": [
    "df.to_pickle(os.path.join(path, '02 Data', 'Prepared data', 'Departments.pkl'))"
   ]
  },
  {
   "cell_type": "code",
   "execution_count": null,
   "id": "abc7f6eb",
   "metadata": {},
   "outputs": [],
   "source": []
  }
 ],
 "metadata": {
  "kernelspec": {
   "display_name": "Python 3 (ipykernel)",
   "language": "python",
   "name": "python3"
  },
  "language_info": {
   "codemirror_mode": {
    "name": "ipython",
    "version": 3
   },
   "file_extension": ".py",
   "mimetype": "text/x-python",
   "name": "python",
   "nbconvert_exporter": "python",
   "pygments_lexer": "ipython3",
   "version": "3.9.13"
  }
 },
 "nbformat": 4,
 "nbformat_minor": 5
}

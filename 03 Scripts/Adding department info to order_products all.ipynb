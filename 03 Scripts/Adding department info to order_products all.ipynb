{
 "cells": [
  {
   "cell_type": "code",
   "execution_count": 1,
   "id": "8a97f92e",
   "metadata": {},
   "outputs": [],
   "source": [
    "import pandas as pd\n",
    "import numpy as np\n",
    "import os\n",
    "import matplotlib.pyplot as plt\n",
    "import seaborn as sns\n",
    "import scipy"
   ]
  },
  {
   "cell_type": "code",
   "execution_count": 2,
   "id": "67703df9",
   "metadata": {},
   "outputs": [],
   "source": [
    "path = r'C:\\Users\\esgib\\Desktop\\Alina\\Course 4\\Instacart Basket Analysis'"
   ]
  },
  {
   "cell_type": "code",
   "execution_count": 3,
   "id": "80c24344",
   "metadata": {},
   "outputs": [],
   "source": [
    "df = pd.read_pickle(os.path.join(path, '02 Data', 'Prepared data', 'Orders_products_all.pkl'))"
   ]
  },
  {
   "cell_type": "code",
   "execution_count": 4,
   "id": "88992f70",
   "metadata": {},
   "outputs": [
    {
     "data": {
      "text/plain": [
       "Index(['order_id', 'product_id', 'add_to_cart_order', 'reordered', 'user_id',\n",
       "       'order_number', 'order_dow', 'order_hour_of_day',\n",
       "       'days_since_prior_order', 'product_name', 'department_id', 'prices',\n",
       "       'gender', 'state', 'age', 'nr_dependants', 'fam_status', 'income',\n",
       "       'region', 'spend_mean', 'spend_flag', 'total_orders', 'max_order',\n",
       "       'activity_flag'],\n",
       "      dtype='object')"
      ]
     },
     "execution_count": 4,
     "metadata": {},
     "output_type": "execute_result"
    }
   ],
   "source": [
    "df.columns"
   ]
  },
  {
   "cell_type": "code",
   "execution_count": 5,
   "id": "67800201",
   "metadata": {},
   "outputs": [],
   "source": [
    "df_dep = pd.read_pickle(os.path.join(path, '02 Data', 'Prepared data', 'Departments.pkl'))"
   ]
  },
  {
   "cell_type": "code",
   "execution_count": 6,
   "id": "4853eee2",
   "metadata": {},
   "outputs": [],
   "source": [
    "df = df.merge(df_dep, on = 'department_id', how = 'left', indicator = True)"
   ]
  },
  {
   "cell_type": "code",
   "execution_count": 7,
   "id": "ae2c05e4",
   "metadata": {},
   "outputs": [
    {
     "data": {
      "text/plain": [
       "Index(['order_id', 'product_id', 'add_to_cart_order', 'reordered', 'user_id',\n",
       "       'order_number', 'order_dow', 'order_hour_of_day',\n",
       "       'days_since_prior_order', 'product_name', 'department_id', 'prices',\n",
       "       'gender', 'state', 'age', 'nr_dependants', 'fam_status', 'income',\n",
       "       'region', 'spend_mean', 'spend_flag', 'total_orders', 'max_order',\n",
       "       'activity_flag', 'department', '_merge'],\n",
       "      dtype='object')"
      ]
     },
     "execution_count": 7,
     "metadata": {},
     "output_type": "execute_result"
    }
   ],
   "source": [
    "df.columns"
   ]
  },
  {
   "cell_type": "code",
   "execution_count": 8,
   "id": "c6548486",
   "metadata": {},
   "outputs": [
    {
     "data": {
      "text/plain": [
       "both          32433030\n",
       "left_only            0\n",
       "right_only           0\n",
       "Name: _merge, dtype: int64"
      ]
     },
     "execution_count": 8,
     "metadata": {},
     "output_type": "execute_result"
    }
   ],
   "source": [
    "df['_merge'].value_counts()"
   ]
  },
  {
   "cell_type": "code",
   "execution_count": 9,
   "id": "6c058f33",
   "metadata": {},
   "outputs": [],
   "source": [
    "df = df.drop(columns = '_merge')"
   ]
  },
  {
   "cell_type": "code",
   "execution_count": 10,
   "id": "d0746d23",
   "metadata": {},
   "outputs": [
    {
     "data": {
      "text/plain": [
       "Index(['order_id', 'product_id', 'add_to_cart_order', 'reordered', 'user_id',\n",
       "       'order_number', 'order_dow', 'order_hour_of_day',\n",
       "       'days_since_prior_order', 'product_name', 'department_id', 'prices',\n",
       "       'gender', 'state', 'age', 'nr_dependants', 'fam_status', 'income',\n",
       "       'region', 'spend_mean', 'spend_flag', 'total_orders', 'max_order',\n",
       "       'activity_flag', 'department'],\n",
       "      dtype='object')"
      ]
     },
     "execution_count": 10,
     "metadata": {},
     "output_type": "execute_result"
    }
   ],
   "source": [
    "df.columns"
   ]
  },
  {
   "cell_type": "code",
   "execution_count": 11,
   "id": "257e40fe",
   "metadata": {},
   "outputs": [
    {
     "data": {
      "text/plain": [
       "order_id                    int32\n",
       "product_id                  int32\n",
       "add_to_cart_order           int16\n",
       "reordered                    int8\n",
       "user_id                     int32\n",
       "order_number                 int8\n",
       "order_dow                    int8\n",
       "order_hour_of_day            int8\n",
       "days_since_prior_order    float16\n",
       "product_name               object\n",
       "department_id             float64\n",
       "prices                    float64\n",
       "gender                     object\n",
       "state                      object\n",
       "age                          int8\n",
       "nr_dependants                int8\n",
       "fam_status                 object\n",
       "income                      int32\n",
       "region                     object\n",
       "spend_mean                float64\n",
       "spend_flag                 object\n",
       "total_orders              float64\n",
       "max_order                    int8\n",
       "activity_flag              object\n",
       "department                 object\n",
       "dtype: object"
      ]
     },
     "execution_count": 11,
     "metadata": {},
     "output_type": "execute_result"
    }
   ],
   "source": [
    "df.dtypes"
   ]
  },
  {
   "cell_type": "code",
   "execution_count": 12,
   "id": "5fa140bb",
   "metadata": {},
   "outputs": [],
   "source": [
    "df['department_id'] = df['department_id'].astype('int32')"
   ]
  },
  {
   "cell_type": "code",
   "execution_count": 13,
   "id": "4af4dae7",
   "metadata": {},
   "outputs": [],
   "source": [
    "df.to_pickle(os.path.join(path, '02 Data', 'Prepared data', 'Orders_products_all.pkl'))"
   ]
  },
  {
   "cell_type": "code",
   "execution_count": null,
   "id": "11f94455",
   "metadata": {},
   "outputs": [],
   "source": []
  }
 ],
 "metadata": {
  "kernelspec": {
   "display_name": "Python 3 (ipykernel)",
   "language": "python",
   "name": "python3"
  },
  "language_info": {
   "codemirror_mode": {
    "name": "ipython",
    "version": 3
   },
   "file_extension": ".py",
   "mimetype": "text/x-python",
   "name": "python",
   "nbconvert_exporter": "python",
   "pygments_lexer": "ipython3",
   "version": "3.9.13"
  }
 },
 "nbformat": 4,
 "nbformat_minor": 5
}
